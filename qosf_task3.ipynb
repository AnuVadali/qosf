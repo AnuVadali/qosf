{
 "cells": [
  {
   "cell_type": "code",
   "execution_count": 1,
   "id": "13a18183-fbad-4f2b-8f6a-33e5fec9d36c",
   "metadata": {},
   "outputs": [
    {
     "name": "stderr",
     "output_type": "stream",
     "text": [
      "<frozen importlib._bootstrap>:219: RuntimeWarning: scipy._lib.messagestream.MessageStream size changed, may indicate binary incompatibility. Expected 56 from C header, got 64 from PyObject\n"
     ]
    }
   ],
   "source": [
    "import numpy as np\n",
    "\n",
    "# Importing standard Qiskit libraries\n",
    "from qiskit import QuantumCircuit, transpile, Aer, IBMQ\n",
    "from qiskit.tools.jupyter import *\n",
    "from qiskit.visualization import *\n",
    "from ibm_quantum_widgets import *\n",
    "from qiskit.providers.aer import QasmSimulator\n",
    "\n",
    "# Loading your IBM Quantum account(s)\n",
    "provider = IBMQ.load_account()"
   ]
  },
  {
   "cell_type": "code",
   "execution_count": 27,
   "id": "a722cd4b-a2b3-4398-a6ca-5a9f4e548f1a",
   "metadata": {},
   "outputs": [],
   "source": [
    "# Other imports\n",
    "from qiskit.utils import algorithm_globals\n",
    "\n",
    "algorithm_globals.random_seed = 12345\n",
    "\n",
    "from qiskit.circuit.library import ZZFeatureMap,ZFeatureMap\n",
    "from qiskit.primitives import Sampler\n",
    "from qiskit.algorithms.state_fidelities import ComputeUncompute\n",
    "from qiskit_machine_learning.kernels import FidelityQuantumKernel\n",
    "from qiskit_machine_learning.algorithms import QSVC\n",
    "from sklearn.svm import SVC\n",
    "from qiskit import opflow"
   ]
  },
  {
   "cell_type": "code",
   "execution_count": 34,
   "id": "f9bb4ce4-de36-44ff-85a4-dbebbec51aaa",
   "metadata": {},
   "outputs": [
    {
     "data": {
      "image/png": "[encoded data removed]",
      "text/plain": [
       "<Figure size 432x288 with 1 Axes>"
      ]
     },
     "metadata": {
      "needs_background": "light"
     },
     "output_type": "display_data"
    }
   ],
   "source": [
    "# Import dataset\n",
    "from qiskit_machine_learning.datasets import iris\n",
    "\n",
    "num_features = 4\n",
    "train_features, train_labels, test_features, test_labels = iris(\n",
    "    training_size=120,\n",
    "    test_size=30,\n",
    "    n=num_features,\n",
    "    plot_data=True,\n",
    "    one_hot=False,\n",
    ")"
   ]
  },
  {
   "cell_type": "code",
   "execution_count": 31,
   "id": "4e0c9179-712a-4f88-a693-813e0f93fd72",
   "metadata": {},
   "outputs": [],
   "source": [
    "# Defining feature maps from data and kernels to be used - Fidelity kernel has been used\n",
    "iris_feature_map = ZFeatureMap(n, reps=3, insert_barriers=True)\n",
    "\n",
    "sampler = Sampler()\n",
    "\n",
    "fidelity = ComputeUncompute(sampler=sampler)\n",
    "\n",
    "iris_kernel = FidelityQuantumKernel(fidelity=fidelity, feature_map=iris_feature_map)"
   ]
  },
  {
   "cell_type": "code",
   "execution_count": 32,
   "id": "dd4d97c4-2ace-42bd-80c4-d5ff347e2bf3",
   "metadata": {},
   "outputs": [
    {
     "name": "stdout",
     "output_type": "stream",
     "text": [
      "QSVC classification test score: 0.9\n"
     ]
    }
   ],
   "source": [
    "# QSVM classification\n",
    "qsvc = QSVC(quantum_kernel=iris_kernel)\n",
    "\n",
    "qsvc.fit(train_features, train_labels)\n",
    "\n",
    "qsvc_score = qsvc.score(test_features, test_labels)\n",
    "\n",
    "print(f\"QSVC classification test score: {qsvc_score}\")"
   ]
  },
  {
   "cell_type": "code",
   "execution_count": 33,
   "id": "dfa41ec8-7177-4f92-9097-e0f43294c0de",
   "metadata": {},
   "outputs": [
    {
     "name": "stdout",
     "output_type": "stream",
     "text": [
      "SVC classification test score: 0.9\n"
     ]
    }
   ],
   "source": [
    "# Classical SVM classification\n",
    "svc = SVC(kernel=iris_kernel.evaluate)\n",
    "\n",
    "svc.fit(train_features, train_labels)\n",
    "\n",
    "svc_score = svc.score(test_features, test_labels)\n",
    "\n",
    "print(f\"SVC classification test score: {svc_score}\")"
   ]
  },
  {
   "cell_type": "code",
   "execution_count": null,
   "id": "66989cc5-cc7e-463f-b7f8-399187b37724",
   "metadata": {},
   "outputs": [],
   "source": []
  }
 ],
 "metadata": {
  "kernelspec": {
   "display_name": "Python 3 (ipykernel)",
   "language": "python",
   "name": "python3"
  },
  "language_info": {
   "codemirror_mode": {
    "name": "ipython",
    "version": 3
   },
   "file_extension": ".py",
   "mimetype": "text/x-python",
   "name": "python",
   "nbconvert_exporter": "python",
   "pygments_lexer": "ipython3",
   "version": "3.8.15"
  },
  "widgets": {
   "application/vnd.jupyter.widget-state+json": {
    "state": {
     "05bbee01bd814df29d8fa15f3f6bbd5b": {
      "model_module": "@jupyter-widgets/base",
      "model_module_version": "1.2.0",
      "model_name": "LayoutModel",
      "state": {
       "width": "70px"
      }
     },
     "08abc79be13f4cc195b7409d7a97dc38": {
      "model_module": "@jupyter-widgets/controls",
      "model_module_version": "1.5.0",
      "model_name": "HTMLModel",
      "state": {
       "layout": "IPY_MODEL_9c8081f94749478c891bdf2211fa898a",
       "style": "IPY_MODEL_db6684ceccfd4d17ae414917b0551964",
       "value": "<h5>Message</h5>"
      }
     },
     "25bbaa8df3f34a9bbd83ed4660d28d57": {
      "model_module": "@jupyter-widgets/controls",
      "model_module_version": "1.5.0",
      "model_name": "HTMLModel",
      "state": {
       "layout": "IPY_MODEL_95a6b0f8d71f4629b84f25d5c9d53a15",
       "style": "IPY_MODEL_3883ceda3e884b95a5572ff67b8ebaab",
       "value": "<h5>Status</h5>"
      }
     },
     "2e4ce40838c34161b959baa3e17bb32f": {
      "model_module": "@jupyter-widgets/controls",
      "model_module_version": "1.5.0",
      "model_name": "HBoxModel",
      "state": {
       "children": [
        "IPY_MODEL_bde8820e1299449baaeeb9c24f686d3a",
        "IPY_MODEL_9fcaac9048fa4534a25bee27c14256a2",
        "IPY_MODEL_25bbaa8df3f34a9bbd83ed4660d28d57",
        "IPY_MODEL_9bdf466860e743dbb433b2e3eb60774d",
        "IPY_MODEL_08abc79be13f4cc195b7409d7a97dc38"
       ],
       "layout": "IPY_MODEL_e947784b1c3f407c8e11ae4360e3fb85"
      }
     },
     "3574c906db1f4a49ba294dcb08ead5ce": {
      "model_module": "@jupyter-widgets/controls",
      "model_module_version": "1.5.0",
      "model_name": "ButtonStyleModel",
      "state": {}
     },
     "3883ceda3e884b95a5572ff67b8ebaab": {
      "model_module": "@jupyter-widgets/controls",
      "model_module_version": "1.5.0",
      "model_name": "DescriptionStyleModel",
      "state": {
       "description_width": ""
      }
     },
     "410f37dc866d42b7b78be4b019404084": {
      "model_module": "@jupyter-widgets/base",
      "model_module_version": "1.2.0",
      "model_name": "LayoutModel",
      "state": {
       "grid_template_areas": "\n                                       \". . . . right \"\n                                        ",
       "grid_template_columns": "20% 20% 20% 20% 20%",
       "width": "100%"
      }
     },
     "47e0c5eff8c3412d9ce8e74ad42eeb98": {
      "model_module": "@jupyter-widgets/base",
      "model_module_version": "1.2.0",
      "model_name": "LayoutModel",
      "state": {
       "margin": "0px 0px 10px 0px"
      }
     },
     "612e82e8ed7d4e5da514c2a0a9c4ba81": {
      "model_module": "@jupyter-widgets/base",
      "model_module_version": "1.2.0",
      "model_name": "LayoutModel",
      "state": {
       "width": "190px"
      }
     },
     "6ca3510dd7ef41238c470cf2c76e0bd8": {
      "model_module": "@jupyter-widgets/controls",
      "model_module_version": "1.5.0",
      "model_name": "DescriptionStyleModel",
      "state": {
       "description_width": ""
      }
     },
     "702a1dc56ba94ba9b592bc12ef2e1d39": {
      "model_module": "@jupyter-widgets/controls",
      "model_module_version": "1.5.0",
      "model_name": "ButtonModel",
      "state": {
       "button_style": "primary",
       "description": "Clear",
       "layout": "IPY_MODEL_71d8b4e7c51342dfac851e188c872d67",
       "style": "IPY_MODEL_3574c906db1f4a49ba294dcb08ead5ce"
      }
     },
     "71d8b4e7c51342dfac851e188c872d67": {
      "model_module": "@jupyter-widgets/base",
      "model_module_version": "1.2.0",
      "model_name": "LayoutModel",
      "state": {
       "grid_area": "right",
       "padding": "0px 0px 0px 0px",
       "width": "70px"
      }
     },
     "7764707e89934f919f0246a3e1e431bb": {
      "model_module": "@jupyter-widgets/controls",
      "model_module_version": "1.5.0",
      "model_name": "DescriptionStyleModel",
      "state": {
       "description_width": ""
      }
     },
     "95a6b0f8d71f4629b84f25d5c9d53a15": {
      "model_module": "@jupyter-widgets/base",
      "model_module_version": "1.2.0",
      "model_name": "LayoutModel",
      "state": {
       "width": "95px"
      }
     },
     "9bdf466860e743dbb433b2e3eb60774d": {
      "model_module": "@jupyter-widgets/controls",
      "model_module_version": "1.5.0",
      "model_name": "HTMLModel",
      "state": {
       "layout": "IPY_MODEL_05bbee01bd814df29d8fa15f3f6bbd5b",
       "style": "IPY_MODEL_6ca3510dd7ef41238c470cf2c76e0bd8",
       "value": "<h5>Queue</h5>"
      }
     },
     "9c8081f94749478c891bdf2211fa898a": {
      "model_module": "@jupyter-widgets/base",
      "model_module_version": "1.2.0",
      "model_name": "LayoutModel",
      "state": {}
     },
     "9fcaac9048fa4534a25bee27c14256a2": {
      "model_module": "@jupyter-widgets/controls",
      "model_module_version": "1.5.0",
      "model_name": "HTMLModel",
      "state": {
       "layout": "IPY_MODEL_caa2e802df05470898288b851e07befe",
       "style": "IPY_MODEL_cc7af88a1d994e268b6997327b19d814",
       "value": "<h5>Backend</h5>"
      }
     },
     "bde8820e1299449baaeeb9c24f686d3a": {
      "model_module": "@jupyter-widgets/controls",
      "model_module_version": "1.5.0",
      "model_name": "HTMLModel",
      "state": {
       "layout": "IPY_MODEL_612e82e8ed7d4e5da514c2a0a9c4ba81",
       "style": "IPY_MODEL_7764707e89934f919f0246a3e1e431bb",
       "value": "<h5>Job ID</h5>"
      }
     },
     "c89566e172b74eaeb88d4a92181c792b": {
      "model_module": "@jupyter-widgets/controls",
      "model_module_version": "1.5.0",
      "model_name": "GridBoxModel",
      "state": {
       "children": [
        "IPY_MODEL_702a1dc56ba94ba9b592bc12ef2e1d39"
       ],
       "layout": "IPY_MODEL_410f37dc866d42b7b78be4b019404084"
      }
     },
     "c9de6079f17b4823b5948ca0a73b91b5": {
      "model_module": "@jupyter-widgets/controls",
      "model_module_version": "1.5.0",
      "model_name": "HTMLModel",
      "state": {
       "layout": "IPY_MODEL_47e0c5eff8c3412d9ce8e74ad42eeb98",
       "style": "IPY_MODEL_d5c7f7cf188444d184948fac7f1689dc",
       "value": "<p style='font-family: IBM Plex Sans, Arial, Helvetica, sans-serif; font-size: 20px; font-weight: medium;'>Circuit Properties</p>"
      }
     },
     "caa2e802df05470898288b851e07befe": {
      "model_module": "@jupyter-widgets/base",
      "model_module_version": "1.2.0",
      "model_name": "LayoutModel",
      "state": {
       "width": "145px"
      }
     },
     "cc7af88a1d994e268b6997327b19d814": {
      "model_module": "@jupyter-widgets/controls",
      "model_module_version": "1.5.0",
      "model_name": "DescriptionStyleModel",
      "state": {
       "description_width": ""
      }
     },
     "d5c7f7cf188444d184948fac7f1689dc": {
      "model_module": "@jupyter-widgets/controls",
      "model_module_version": "1.5.0",
      "model_name": "DescriptionStyleModel",
      "state": {
       "description_width": ""
      }
     },
     "db6684ceccfd4d17ae414917b0551964": {
      "model_module": "@jupyter-widgets/controls",
      "model_module_version": "1.5.0",
      "model_name": "DescriptionStyleModel",
      "state": {
       "description_width": ""
      }
     },
     "e947784b1c3f407c8e11ae4360e3fb85": {
      "model_module": "@jupyter-widgets/base",
      "model_module_version": "1.2.0",
      "model_name": "LayoutModel",
      "state": {
       "margin": "0px 0px 0px 37px",
       "width": "600px"
      }
     }
    },
    "version_major": 2,
    "version_minor": 0
   }
  }
 },
 "nbformat": 4,
 "nbformat_minor": 5
}
